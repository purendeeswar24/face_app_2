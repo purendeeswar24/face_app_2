{
 "cells": [
  {
   "cell_type": "code",
   "execution_count": null,
   "metadata": {},
   "outputs": [
    {
     "name": "stdout",
     "output_type": "stream",
     "text": [
      "5 : 3\n",
      "5 : 3\n",
      "5 : 3\n",
      "7 : 4\n",
      "7 : 4\n",
      "7 : 4\n",
      "7 : 4\n"
     ]
    }
   ],
   "source": [
    "a = [1,2,3,4,5,6,5,5,7,7,7,7,]\n",
    "count_m= 0\n",
    "for i in a:\n",
    "    count_c= 0\n",
    "    for j in a:\n",
    "        if i == j:\n",
    "            count_c += 1\n",
    "    if count_c >2:\n",
    "       print(f\"{i} : {count_c}\")"
   ]
  },
  {
   "cell_type": "code",
   "execution_count": null,
   "metadata": {},
   "outputs": [],
   "source": [
    "i = int(input())\n",
    "prime \n",
    "for i in a:\n",
    "    count = 0"
   ]
  },
  {
   "cell_type": "code",
   "execution_count": null,
   "metadata": {},
   "outputs": [],
   "source": []
  }
 ],
 "metadata": {
  "kernelspec": {
   "display_name": "Python 3",
   "language": "python",
   "name": "python3"
  },
  "language_info": {
   "codemirror_mode": {
    "name": "ipython",
    "version": 3
   },
   "file_extension": ".py",
   "mimetype": "text/x-python",
   "name": "python",
   "nbconvert_exporter": "python",
   "pygments_lexer": "ipython3",
   "version": "3.11.9"
  }
 },
 "nbformat": 4,
 "nbformat_minor": 2
}
